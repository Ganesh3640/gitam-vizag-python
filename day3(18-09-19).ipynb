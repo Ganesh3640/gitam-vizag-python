{
 "cells": [
  {
   "cell_type": "code",
   "execution_count": 5,
   "metadata": {},
   "outputs": [
    {
     "name": "stdout",
     "output_type": "stream",
     "text": [
      "<class 'str'> <class 'str'> <class 'str'>\n"
     ]
    }
   ],
   "source": [
    "s1='python'\n",
    "s2=\"programming\"\n",
    "s3='x'\n",
    "print(type(s1),type(s2),type(s3))\n"
   ]
  },
  {
   "cell_type": "markdown",
   "metadata": {},
   "source": [
    "### string slicing\n"
   ]
  },
  {
   "cell_type": "code",
   "execution_count": 14,
   "metadata": {},
   "outputs": [
    {
     "name": "stdout",
     "output_type": "stream",
     "text": [
      "p\n",
      "y\n",
      "o\n",
      "n\n",
      "h\n",
      "h\n"
     ]
    }
   ],
   "source": [
    "s1='python'\n",
    "print(s1[0]) \n",
    "print(s1[1])\n",
    "print(s1[len(s1)-2])\n",
    "print(s1[len(s1)-1])\n",
    "print(s1[-3])\n",
    "print(s1[3])\n",
    "\n"
   ]
  },
  {
   "cell_type": "code",
   "execution_count": 21,
   "metadata": {},
   "outputs": [
    {
     "name": "stdout",
     "output_type": "stream",
     "text": [
      "py\n",
      "on\n",
      "p\n",
      "python\n"
     ]
    }
   ],
   "source": [
    "print(s1[0:2])\n",
    "print(s1[-2:])\n",
    "print(s1[0:-5])\n",
    "print(s1[-6:])\n"
   ]
  },
  {
   "cell_type": "code",
   "execution_count": 41,
   "metadata": {},
   "outputs": [
    {
     "data": {
      "text/plain": [
       "'ganesh'"
      ]
     },
     "execution_count": 41,
     "metadata": {},
     "output_type": "execute_result"
    }
   ],
   "source": [
    "def reversestr(s):\n",
    "    return s[-1::-1]\n",
    "reversestr('hsenag')\n",
    "\n",
    "\n"
   ]
  },
  {
   "cell_type": "code",
   "execution_count": null,
   "metadata": {},
   "outputs": [],
   "source": []
  },
  {
   "cell_type": "code",
   "execution_count": 53,
   "metadata": {},
   "outputs": [
    {
     "name": "stdout",
     "output_type": "stream",
     "text": [
      "yes\n",
      "yes\n",
      "false\n"
     ]
    }
   ],
   "source": [
    " def palindrome(m):\n",
    "    if m==m[-1::-1]:  # if (saly==ylas)\n",
    "        print('yes')\n",
    "    else:\n",
    "        print('false')\n",
    "palindrome('mom')\n",
    "palindrome('dad')\n",
    "palindrome('saly')\n",
    "\n",
    "\n"
   ]
  },
  {
   "cell_type": "code",
   "execution_count": 59,
   "metadata": {},
   "outputs": [
    {
     "name": "stdout",
     "output_type": "stream",
     "text": [
      "32\n",
      "97\n",
      "50\n",
      "65\n"
     ]
    }
   ],
   "source": [
    "print(ord(' '))\n",
    "print(ord('a'))\n",
    "print(ord('2'))\n",
    "print(ord('A'))"
   ]
  },
  {
   "cell_type": "code",
   "execution_count": 70,
   "metadata": {},
   "outputs": [
    {
     "name": "stdout",
     "output_type": "stream",
     "text": [
      "Y  N  "
     ]
    }
   ],
   "source": [
    "def printuppr(a):\n",
    "    for i in range (len(a)):\n",
    "        if ord(a[i]) >=65 and ord (a[i])<=90:\n",
    "            print(a[i],end='  ')\n",
    "    return\n",
    "printuppr('pYthoN')\n",
    "            \n",
    "               "
   ]
  },
  {
   "cell_type": "code",
   "execution_count": 108,
   "metadata": {},
   "outputs": [
    {
     "name": "stdout",
     "output_type": "stream",
     "text": [
      "enter a number4\n",
      "wwe\n"
     ]
    }
   ],
   "source": [
    "g=int(input(\"enter a number\"))\n",
    "if g==1:\n",
    "    print(\"john cena\")\n",
    "elif g==2:  \n",
    "    print(\"roman reigns\")\n",
    "else:\n",
    "    print(\"wwe\")\n",
    "        "
   ]
  },
  {
   "cell_type": "code",
   "execution_count": 107,
   "metadata": {},
   "outputs": [
    {
     "name": "stdout",
     "output_type": "stream",
     "text": [
      "duffa ga\n",
      "suuperb\n"
     ]
    }
   ],
   "source": [
    "def upp(s):\n",
    "    uppcnt=0\n",
    "    lowcnt=0\n",
    "    for i in range(len(s)):\n",
    "        if ord(s[i])>=65 and ord(s[i])<=90:\n",
    "            uppcnt+=1\n",
    "        elif ord(s[i])>=97 and ord(s[i])<=122:\n",
    "            lowcnt+=1\n",
    "    if uppcnt==lowcnt:\n",
    "        print(\"suuperb\")\n",
    "    #else\n",
    "print(\"duffa ga\")\n",
    "upp(\"QwErT\")\n",
    "upp(\"QwERty\")"
   ]
  },
  {
   "cell_type": "code",
   "execution_count": 113,
   "metadata": {},
   "outputs": [
    {
     "data": {
      "text/plain": [
       "8"
      ]
     },
     "execution_count": 113,
     "metadata": {},
     "output_type": "execute_result"
    }
   ],
   "source": [
    "def num(a):\n",
    "    cnt=0\n",
    "    for i in range (len(a)):\n",
    "        if ord(a[i])>=48  and ord(a[i])<=57:\n",
    "            cnt=cnt+int(a[i])\n",
    "    return cnt\n",
    "num('appli1c4atio3n')\n",
    "    "
   ]
  },
  {
   "cell_type": "code",
   "execution_count": 129,
   "metadata": {},
   "outputs": [
    {
     "name": "stdout",
     "output_type": "stream",
     "text": [
      "MATTERS"
     ]
    }
   ],
   "source": [
    "\n",
    "def upprcase(a):\n",
    "    c=0\n",
    "    for i in range (len(a)):\n",
    "        if ord(a[i])==32 :\n",
    "            c+=1\n",
    "        if c==1: \n",
    "            if ord(a[i])>=65 and ord(a[i])<=90:\n",
    "                print(a[i],end='')\n",
    "            elif ord(a[i])>=97 and ord(a[i])<=122:\n",
    "                print(chr(ord(a[i])-32),end='')\n",
    "                \n",
    "        if c==2:\n",
    "            break\n",
    "    return      \n",
    "upprcase('money matters')\n",
    "                         \n",
    "           \n",
    "            \n",
    "                \n",
    "            \n",
    "         \n",
    "                \n",
    "                \n",
    "                \n",
    "        "
   ]
  },
  {
   "cell_type": "code",
   "execution_count": 1,
   "metadata": {},
   "outputs": [
    {
     "name": "stdout",
     "output_type": "stream",
     "text": [
      "4\n",
      "48\n",
      "[1, 2, 3, 4.5, 1, 2, 3, 4.5]\n",
      "10.5\n"
     ]
    }
   ],
   "source": [
    "li=[1,2,3,4.5]\n",
    "print(len(li))\n",
    "print(len(li)*12)\n",
    "print(li*2)\n",
    "print(sum(li))\n"
   ]
  },
  {
   "cell_type": "markdown",
   "metadata": {},
   "source": [
    "# function to find least and generic least"
   ]
  },
  {
   "cell_type": "code",
   "execution_count": null,
   "metadata": {},
   "outputs": [],
   "source": []
  },
  {
   "cell_type": "markdown",
   "metadata": {},
   "source": [
    "# file handling in python"
   ]
  },
  {
   "cell_type": "code",
   "execution_count": 16,
   "metadata": {},
   "outputs": [
    {
     "name": "stdout",
     "output_type": "stream",
     "text": [
      "file is succesfully created and data has inserted\n"
     ]
    }
   ],
   "source": [
    "def createfile(filename):\n",
    "    f=open(filename,'w')\n",
    "    for i in range(10):\n",
    "        f.write('this is %d line \\n' %i)\n",
    "      #  f.write('python programming')\n",
    "    print('file is succesfully created and data has inserted')\n",
    "    return\n",
    "createfile('data.txt')"
   ]
  },
  {
   "cell_type": "markdown",
   "metadata": {},
   "source": [
    "# append mode\n"
   ]
  },
  {
   "cell_type": "code",
   "execution_count": 15,
   "metadata": {},
   "outputs": [
    {
     "name": "stdout",
     "output_type": "stream",
     "text": [
      "file is sucessfully written\n"
     ]
    }
   ],
   "source": [
    "def appendmode(filename):\n",
    "    f=open(filename,'a')\n",
    "    f.write(\"this is python programming\")\n",
    "    f.write(\"in gitam\")\n",
    "    print(\"file is sucessfully written\")\n",
    "    return\n",
    "appendmode('data.txt')\n",
    "    "
   ]
  },
  {
   "cell_type": "markdown",
   "metadata": {},
   "source": [
    "# read mode"
   ]
  },
  {
   "cell_type": "code",
   "execution_count": 18,
   "metadata": {},
   "outputs": [
    {
     "name": "stdout",
     "output_type": "stream",
     "text": [
      "this is 0 line \n",
      "this is 1 line \n",
      "this is 2 line \n",
      "this is 3 line \n",
      "this is 4 line \n",
      "this is 5 line \n",
      "this is 6 line \n",
      "this is 7 line \n",
      "this is 8 line \n",
      "this is 9 line \n",
      "\n"
     ]
    }
   ],
   "source": [
    "def readmode(filename):\n",
    "    f=open(filename,'r')\n",
    "    if f.mode=='r':\n",
    "        a=f.read()\n",
    "        print(a)\n",
    "    return \n",
    "readmode('data.txt')\n",
    "    "
   ]
  },
  {
   "cell_type": "code",
   "execution_count": 27,
   "metadata": {},
   "outputs": [
    {
     "name": "stdout",
     "output_type": "stream",
     "text": [
      "['python', 'programming', 'in', 'gitam']\n"
     ]
    }
   ],
   "source": [
    "s='python programming in gitam'\n",
    "print(s.split())"
   ]
  },
  {
   "cell_type": "code",
   "execution_count": 35,
   "metadata": {},
   "outputs": [
    {
     "data": {
      "text/plain": [
       "40"
      ]
     },
     "execution_count": 35,
     "metadata": {},
     "output_type": "execute_result"
    }
   ],
   "source": [
    "def wordcnt(n):\n",
    "    with open(n,'r')as f:\n",
    "        if f.mode=='r':\n",
    "            a=f.read()\n",
    "            li=a.split()\n",
    "           # print(li)\n",
    "    return len(li)\n",
    "wordcnt('data.txt')\n",
    "            \n",
    "        "
   ]
  },
  {
   "cell_type": "code",
   "execution_count": 45,
   "metadata": {},
   "outputs": [
    {
     "data": {
      "text/plain": [
       "10"
      ]
     },
     "execution_count": 45,
     "metadata": {},
     "output_type": "execute_result"
    }
   ],
   "source": [
    "def spe(filename,word):\n",
    "    with open(filename,'r') as f:\n",
    "        if f.mode== 'r':\n",
    "            a=f.read()\n",
    "            li=a.split()\n",
    "    return li.count(word)\n",
    "spe('data.txt','line')\n",
    "    "
   ]
  },
  {
   "cell_type": "code",
   "execution_count": 46,
   "metadata": {},
   "outputs": [
    {
     "data": {
      "text/plain": [
       "160"
      ]
     },
     "execution_count": 46,
     "metadata": {},
     "output_type": "execute_result"
    }
   ],
   "source": [
    "def cnt(filename):\n",
    "    with open(filename,'r') as f:\n",
    "        if f.mode== 'r':\n",
    "            a=f.read()\n",
    "            li=list(a)\n",
    "    return len(a)\n",
    "cnt ('data.txt')\n",
    "\n",
    "    "
   ]
  },
  {
   "cell_type": "code",
   "execution_count": 3,
   "metadata": {},
   "outputs": [
    {
     "name": "stdout",
     "output_type": "stream",
     "text": [
      "1\n"
     ]
    }
   ],
   "source": [
    "print(ord('b') - ord('a')) "
   ]
  },
  {
   "cell_type": "code",
   "execution_count": 15,
   "metadata": {},
   "outputs": [
    {
     "name": "stdout",
     "output_type": "stream",
     "text": [
      "python\n",
      "PYTHON\n",
      "False\n",
      "True\n"
     ]
    }
   ],
   "source": [
    "s1='python'\n",
    "print(s1.lower())\n",
    "print(s1.upper())\n",
    "print(s1.isupper())\n",
    "print(s1.islower())"
   ]
  },
  {
   "cell_type": "code",
   "execution_count": 8,
   "metadata": {},
   "outputs": [
    {
     "name": "stdout",
     "output_type": "stream",
     "text": [
      "matters"
     ]
    }
   ],
   "source": [
    "def upprcase(a):\n",
    "    c=0\n",
    "    for i in range (len(a)):\n",
    "        if ord(a[i])==32 :\n",
    "            c+=1\n",
    "        if c==1: \n",
    "            if ord(a[i])>=65 and ord(a[i])<=90:\n",
    "                print(a([i])+32,end='')\n",
    "            elif ord(a[i])>=97 and ord(a[i])<=122:\n",
    "                print(chr(ord(a[i])),end='')\n",
    "                \n",
    "        if c==2:\n",
    "            break\n",
    "    return      \n",
    "upprcase('money matters')"
   ]
  },
  {
   "cell_type": "code",
   "execution_count": 11,
   "metadata": {},
   "outputs": [
    {
     "name": "stdout",
     "output_type": "stream",
     "text": [
      "True\n"
     ]
    }
   ],
   "source": [
    "s1='Python Programming'\n",
    "print(s1.istitle())"
   ]
  },
  {
   "cell_type": "code",
   "execution_count": 13,
   "metadata": {},
   "outputs": [
    {
     "name": "stdout",
     "output_type": "stream",
     "text": [
      "True\n",
      "False\n"
     ]
    }
   ],
   "source": [
    "s1='123456'\n",
    "s2='abc123'\n",
    "print(s1.isnumeric())\n",
    "print(s2.isnumeric())"
   ]
  },
  {
   "cell_type": "code",
   "execution_count": 23,
   "metadata": {},
   "outputs": [
    {
     "name": "stdout",
     "output_type": "stream",
     "text": [
      "True\n",
      "False\n",
      "True\n"
     ]
    }
   ],
   "source": [
    "s1='abc'\n",
    "s2='143'\n",
    "s3='  '\n",
    "print(s1.isalpha())\n",
    "print(s2.isalpha())\n",
    "print(s3.isspace())"
   ]
  },
  {
   "cell_type": "code",
   "execution_count": 24,
   "metadata": {},
   "outputs": [
    {
     "ename": "SyntaxError",
     "evalue": "invalid syntax (<ipython-input-24-e2f945a7c163>, line 3)",
     "output_type": "error",
     "traceback": [
      "\u001b[1;36m  File \u001b[1;32m\"<ipython-input-24-e2f945a7c163>\"\u001b[1;36m, line \u001b[1;32m3\u001b[0m\n\u001b[1;33m    for\u001b[0m\n\u001b[1;37m        ^\u001b[0m\n\u001b[1;31mSyntaxError\u001b[0m\u001b[1;31m:\u001b[0m invalid syntax\n"
     ]
    }
   ],
   "source": [
    "def alter(a):\n",
    "    c=0\n",
    "    for i in range(len(a))\n",
    "        if ord(a[i])==32:\n",
    "            print(end=' ')\n",
    "            c+=1\n",
    "        if c%2!=0:\n",
    "            if ord(a[i]>=65) and ord(a[i]<=97):\n",
    "            print()\n",
    "             "
   ]
  },
  {
   "cell_type": "code",
   "execution_count": 27,
   "metadata": {},
   "outputs": [
    {
     "name": "stdout",
     "output_type": "stream",
     "text": [
      "['python pr', 'gr', 'mming in git', 'm ']\n"
     ]
    }
   ],
   "source": [
    "s1='python pragramming in gitam '\n",
    "li=s1.split('a')\n",
    "print(li)"
   ]
  },
  {
   "cell_type": "code",
   "execution_count": 28,
   "metadata": {},
   "outputs": [
    {
     "name": "stdout",
     "output_type": "stream",
     "text": [
      "python pr@gr@mming in git@m \n"
     ]
    }
   ],
   "source": [
    "s1='python pragramming in gitam '\n",
    "li=s1.replace('a','@')\n",
    "print(li)"
   ]
  },
  {
   "cell_type": "code",
   "execution_count": 33,
   "metadata": {},
   "outputs": [
    {
     "name": "stdout",
     "output_type": "stream",
     "text": [
      "p-y-t-h-o-n- -p-r-a-g-r-a-m-m-i-n-g- -i-n- -g-i-t-a-m- \n"
     ]
    }
   ],
   "source": [
    "li='python pragramming in gitam '\n",
    "s=\"-\"\n",
    "li=s.join(li)\n",
    "print(li)"
   ]
  },
  {
   "cell_type": "code",
   "execution_count": 39,
   "metadata": {},
   "outputs": [
    {
     "name": "stdout",
     "output_type": "stream",
     "text": [
      "p#y#t#h#o#n# #p#r#o#g#r#a#m#m#i#n#g\n"
     ]
    }
   ],
   "source": [
    "s1='python programming'\n",
    "print(('#'.join(s1)))"
   ]
  },
  {
   "cell_type": "code",
   "execution_count": 66,
   "metadata": {},
   "outputs": [
    {
     "name": "stdout",
     "output_type": "stream",
     "text": [
      "list item 1: gitam\n",
      "list item 2: programming\n",
      "list item 0:python\n"
     ]
    }
   ],
   "source": [
    "li=[\"python\",\" programming\",\" gitam\"]\n",
    "print(\"list item 1:{2}\\nlist item 2:{1}\\nlist item 0:{0}\".format(li[0],li[1],li[2],))\n"
   ]
  },
  {
   "cell_type": "markdown",
   "metadata": {},
   "source": [
    "# dictioneries\n",
    " works onthe concept of uniq data\n",
    " each key is seperated by a colon(:)\n",
    " each value is seperated by comma(,)\n",
    " all thismdata can be enclosed in flower brackets ({})\n"
   ]
  },
  {
   "cell_type": "markdown",
   "metadata": {},
   "source": []
  },
  {
   "cell_type": "code",
   "execution_count": 72,
   "metadata": {},
   "outputs": [
    {
     "name": "stdout",
     "output_type": "stream",
     "text": [
      "koritalakln@gmail.com\n"
     ]
    }
   ],
   "source": [
    "d1={\"name\":\"ganesh\",\"email\":\"koritalakln@gmail.com\"}\n",
    "del d1[\"name\"]\n",
    "#print(d1[\"name\"])\n",
    "print(d1[\"email\"])"
   ]
  },
  {
   "cell_type": "code",
   "execution_count": 9,
   "metadata": {},
   "outputs": [
    {
     "name": "stdout",
     "output_type": "stream",
     "text": [
      "contact details are added successfully\n",
      "contact details are added successfully\n",
      "contact details are added successfully\n"
     ]
    }
   ],
   "source": [
    "contact={}\n",
    "def addcontact(name,number):\n",
    "    if name not in contact:\n",
    "        contact[name]=number\n",
    "        print ('contact details are added successfully')\n",
    "    else:\n",
    "        print(\"name is already exists\")\n",
    "    return\n",
    "addcontact('ganesh','9701519108')\n",
    "addcontact('gangu','108')\n",
    "addcontact('bharath','108')"
   ]
  },
  {
   "cell_type": "code",
   "execution_count": 82,
   "metadata": {},
   "outputs": [
    {
     "name": "stdout",
     "output_type": "stream",
     "text": [
      "ganesh :  9701519108\n",
      "gangu :  108\n"
     ]
    }
   ],
   "source": [
    "def searchcontact(name):\n",
    "    if name in contact:\n",
    "        print(name, \": \",contact[name])\n",
    "    else:\n",
    "        print('does not present'.format(name))\n",
    "    return\n",
    "\n",
    "searchcontact('ganesh')\n",
    "searchcontact('gangu')"
   ]
  },
  {
   "cell_type": "code",
   "execution_count": 10,
   "metadata": {},
   "outputs": [
    {
     "name": "stdout",
     "output_type": "stream",
     "text": [
      "contact is not present\n"
     ]
    }
   ],
   "source": [
    "def delcon(name):\n",
    "    if name in contact:\n",
    "        del contact[name]\n",
    "        print(name,'deleted successfully')\n",
    "    else:\n",
    "        print('contact is not present')\n",
    "    return\n",
    "\n",
    "\n",
    "\n",
    "delcon('anushka')"
   ]
  },
  {
   "cell_type": "code",
   "execution_count": 12,
   "metadata": {},
   "outputs": [
    {
     "name": "stdout",
     "output_type": "stream",
     "text": [
      "(1, 2, 3, 4, 5)\n"
     ]
    }
   ],
   "source": [
    "t1=(1,2,3,4,5)\n",
    "print(t1)"
   ]
  },
  {
   "cell_type": "code",
   "execution_count": 13,
   "metadata": {},
   "outputs": [
    {
     "ename": "SyntaxError",
     "evalue": "invalid syntax (<ipython-input-13-bfaf92abd86f>, line 3)",
     "output_type": "error",
     "traceback": [
      "\u001b[1;36m  File \u001b[1;32m\"<ipython-input-13-bfaf92abd86f>\"\u001b[1;36m, line \u001b[1;32m3\u001b[0m\n\u001b[1;33m    if re.match\u001b[0m\n\u001b[1;37m               ^\u001b[0m\n\u001b[1;31mSyntaxError\u001b[0m\u001b[1;31m:\u001b[0m invalid syntax\n"
     ]
    }
   ],
   "source": [
    "def validdateusername(s):\n",
    "    pattern='^[a-zA-Z]{5,12}$'\n",
    "    if re.match()"
   ]
  },
  {
   "cell_type": "code",
   "execution_count": null,
   "metadata": {},
   "outputs": [],
   "source": []
  }
 ],
 "metadata": {
  "kernelspec": {
   "display_name": "Python 3",
   "language": "python",
   "name": "python3"
  },
  "language_info": {
   "codemirror_mode": {
    "name": "ipython",
    "version": 3
   },
   "file_extension": ".py",
   "mimetype": "text/x-python",
   "name": "python",
   "nbconvert_exporter": "python",
   "pygments_lexer": "ipython3",
   "version": "3.7.3"
  }
 },
 "nbformat": 4,
 "nbformat_minor": 2
}
